{
 "cells": [
  {
   "cell_type": "markdown",
   "id": "ccaf401f",
   "metadata": {},
   "source": [
    "# MLExample Setup: Create SageMaker and Lambda Execution Roles\n",
    "\n",
    "This notebook will create the required IAM roles for SageMaker and Lambda execution, attach the necessary policies, and print the resulting ARNs for use in your ML pipeline notebook."
   ]
  },
  {
   "cell_type": "code",
   "execution_count": 1,
   "id": "3d304d80",
   "metadata": {},
   "outputs": [
    {
     "name": "stdout",
     "output_type": "stream",
     "text": [
      "Created SageMaker role: arn:aws:iam::054116116033:role/ml-example-sagemaker-execution-role\n",
      "SageMaker execution role ARN: arn:aws:iam::054116116033:role/ml-example-sagemaker-execution-role\n",
      "SageMaker execution role ARN: arn:aws:iam::054116116033:role/ml-example-sagemaker-execution-role\n"
     ]
    }
   ],
   "source": [
    "import boto3\n",
    "import json\n",
    "import os\n",
    "\n",
    "os.environ[\"AWS_PROFILE\"] = \"rjawsprofile\"\n",
    "\n",
    "iam = boto3.client('iam')\n",
    "\n",
    "sagemaker_role_name = \"ml-example-sagemaker-execution-role\"\n",
    "sagemaker_trust_policy = {\n",
    "    \"Version\": \"2012-10-17\",\n",
    "    \"Statement\": [\n",
    "        {\n",
    "            \"Effect\": \"Allow\",\n",
    "            \"Principal\": {\"Service\": \"sagemaker.amazonaws.com\"},\n",
    "            \"Action\": \"sts:AssumeRole\"\n",
    "        }\n",
    "    ]\n",
    "}\n",
    "\n",
    "try:\n",
    "    sagemaker_role = iam.create_role(\n",
    "        RoleName=sagemaker_role_name,\n",
    "        AssumeRolePolicyDocument=json.dumps(sagemaker_trust_policy),\n",
    "        Description=\"SageMaker execution role for MLExample\"\n",
    "    )\n",
    "    print(f\"Created SageMaker role: {sagemaker_role['Role']['Arn']}\")\n",
    "except iam.exceptions.EntityAlreadyExistsException:\n",
    "    sagemaker_role = iam.get_role(RoleName=sagemaker_role_name)\n",
    "    print(f\"SageMaker role already exists: {sagemaker_role['Role']['Arn']}\")\n",
    "\n",
    "# Attach policies\n",
    "policies = [\n",
    "    \"arn:aws:iam::aws:policy/AmazonSageMakerFullAccess\",\n",
    "    \"arn:aws:iam::aws:policy/AmazonS3FullAccess\"\n",
    "]\n",
    "for policy_arn in policies:\n",
    "    try:\n",
    "        iam.attach_role_policy(RoleName=sagemaker_role_name, PolicyArn=policy_arn)\n",
    "    except Exception as e:\n",
    "        print(f\"Policy {policy_arn} may already be attached: {e}\")\n",
    "\n",
    "print(f\"SageMaker execution role ARN: {sagemaker_role['Role']['Arn']}\")\n"
   ]
  },
  {
   "cell_type": "code",
   "execution_count": 2,
   "id": "507aa331",
   "metadata": {},
   "outputs": [
    {
     "name": "stdout",
     "output_type": "stream",
     "text": [
      "Created Lambda role: arn:aws:iam::054116116033:role/ml-example-lambda-execution-role\n",
      "Lambda execution role ARN: arn:aws:iam::054116116033:role/ml-example-lambda-execution-role\n",
      "Lambda execution role ARN: arn:aws:iam::054116116033:role/ml-example-lambda-execution-role\n"
     ]
    }
   ],
   "source": [
    "lambda_role_name = \"ml-example-lambda-execution-role\"\n",
    "lambda_trust_policy = {\n",
    "    \"Version\": \"2012-10-17\",\n",
    "    \"Statement\": [\n",
    "        {\n",
    "            \"Effect\": \"Allow\",\n",
    "            \"Principal\": {\"Service\": \"lambda.amazonaws.com\"},\n",
    "            \"Action\": \"sts:AssumeRole\"\n",
    "        }\n",
    "    ]\n",
    "}\n",
    "\n",
    "try:\n",
    "    lambda_role = iam.create_role(\n",
    "        RoleName=lambda_role_name,\n",
    "        AssumeRolePolicyDocument=json.dumps(lambda_trust_policy),\n",
    "        Description=\"Lambda execution role for MLExample\"\n",
    "    )\n",
    "    print(f\"Created Lambda role: {lambda_role['Role']['Arn']}\")\n",
    "except iam.exceptions.EntityAlreadyExistsException:\n",
    "    lambda_role = iam.get_role(RoleName=lambda_role_name)\n",
    "    print(f\"Lambda role already exists: {lambda_role['Role']['Arn']}\")\n",
    "\n",
    "# Attach policies\n",
    "policies = [\n",
    "    \"arn:aws:iam::aws:policy/service-role/AWSLambdaBasicExecutionRole\",\n",
    "    \"arn:aws:iam::aws:policy/AmazonSageMakerFullAccess\",\n",
    "    \"arn:aws:iam::aws:policy/AmazonS3ReadOnlyAccess\"\n",
    "]\n",
    "for policy_arn in policies:\n",
    "    try:\n",
    "        iam.attach_role_policy(RoleName=lambda_role_name, PolicyArn=policy_arn)\n",
    "    except Exception as e:\n",
    "        print(f\"Policy {policy_arn} may already be attached: {e}\")\n",
    "\n",
    "print(f\"Lambda execution role ARN: {lambda_role['Role']['Arn']}\")\n"
   ]
  }
 ],
 "metadata": {
  "kernelspec": {
   "display_name": "Python 3",
   "language": "python",
   "name": "python3"
  },
  "language_info": {
   "codemirror_mode": {
    "name": "ipython",
    "version": 3
   },
   "file_extension": ".py",
   "mimetype": "text/x-python",
   "name": "python",
   "nbconvert_exporter": "python",
   "pygments_lexer": "ipython3",
   "version": "3.12.1"
  }
 },
 "nbformat": 4,
 "nbformat_minor": 5
}
